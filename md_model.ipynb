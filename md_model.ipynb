{
 "cells": [
  {
   "cell_type": "code",
   "execution_count": null,
   "metadata": {},
   "outputs": [],
   "source": [
    "from md_model import main\n",
    "\n",
    "\n",
    "model_filename = \"/scratch/angiod/CSNet/results/UCBSHIFT.simple/CA.mlp.single.scalar.simple.poly/best_model.pth\"\n",
    "\n",
    "input_file = '/storage_common/angiod/chignolin_unfolded/chignolin.pdb'\n",
    "target_input_file = '/storage_common/angiod/CHIGNOLIN/chignolin.pdb'\n",
    "\n",
    "atom_names_filters = [\"CA\"]\n",
    "\n",
    "main(model_filename, input_file, target_input_file, atom_names_filters)"
   ]
  }
 ],
 "metadata": {
  "kernelspec": {
   "display_name": "geqmd",
   "language": "python",
   "name": "python3"
  },
  "language_info": {
   "codemirror_mode": {
    "name": "ipython",
    "version": 3
   },
   "file_extension": ".py",
   "mimetype": "text/x-python",
   "name": "python",
   "nbconvert_exporter": "python",
   "pygments_lexer": "ipython3",
   "version": "3.10.16"
  }
 },
 "nbformat": 4,
 "nbformat_minor": 2
}
