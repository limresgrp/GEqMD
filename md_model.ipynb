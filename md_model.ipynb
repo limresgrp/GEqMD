{
 "cells": [
  {
   "cell_type": "code",
   "execution_count": null,
   "metadata": {},
   "outputs": [],
   "source": [
    "from geqmd.scripts.md_model import run\n",
    "\n",
    "\n",
    "model_filename = \"/scratch/angiod/CSNet/results/DFT/all.mace.r5.exp2/best_model.pth\"\n",
    "\n",
    "# input_file = '/storage_common/angiod/chignolin_unfolded/chignolin.pdb'\n",
    "# target_input_file = '/storage_common/angiod/CHIGNOLIN/chignolin.pdb'\n",
    "\n",
    "# input_file = '/storage_common/angiod/Decaalanine/deca.alpha.pdb'\n",
    "# input_file = '/storage_common/angiod/Decaalanine/deca.harpin.pdb'\n",
    "input_file = '/storage_common/angiod/Decaalanine/deca.harpin.pdb'\n",
    "# target_input_file = '/storage_common/angiod/Decaalanine/deca.polyproline.pdb'\n",
    "target_input_file = '/storage_common/angiod/Decaalanine/deca.polyproline.pdb'\n",
    "\n",
    "atom_names_filters = None # [\"CA\"]\n",
    "output_filename = 'del'\n",
    "\n",
    "run(model_filename, input_file, target_input_file, atom_names_filters, output_filename,\n",
    "     num_simulations=1, num_steps=100000, energy_scale=.001, log_steps=1000, temp=310, device='cuda')"
   ]
  }
 ],
 "metadata": {
  "kernelspec": {
   "display_name": "geqmd",
   "language": "python",
   "name": "python3"
  },
  "language_info": {
   "codemirror_mode": {
    "name": "ipython",
    "version": 3
   },
   "file_extension": ".py",
   "mimetype": "text/x-python",
   "name": "python",
   "nbconvert_exporter": "python",
   "pygments_lexer": "ipython3",
   "version": "3.10.16"
  }
 },
 "nbformat": 4,
 "nbformat_minor": 2
}
